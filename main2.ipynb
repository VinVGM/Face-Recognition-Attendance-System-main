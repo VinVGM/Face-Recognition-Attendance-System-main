{
 "cells": [
  {
   "cell_type": "code",
   "execution_count": 4,
   "metadata": {},
   "outputs": [],
   "source": [
    "import cv2\n",
    "import face_recognition\n",
    "import os\n",
    "import numpy as np\n",
    "from datetime import datetime\n",
    "import pickle\n"
   ]
  },
  {
   "cell_type": "code",
   "execution_count": 5,
   "metadata": {},
   "outputs": [],
   "source": [
    "path = 'pages/student_images'"
   ]
  },
  {
   "cell_type": "code",
   "execution_count": 6,
   "metadata": {},
   "outputs": [],
   "source": [
    "images = []\n",
    "classNames = []\n",
    "mylist = os.listdir(path)\n",
    "for cl in mylist:\n",
    "    curImg = cv2.imread(f'{path}/{cl}')\n",
    "    images.append(curImg)\n",
    "    classNames.append(os.path.splitext(cl)[0])"
   ]
  },
  {
   "cell_type": "code",
   "execution_count": 7,
   "metadata": {},
   "outputs": [],
   "source": [
    "def findEncodings(images):\n",
    "    encodeList = []\n",
    "    for img in images:\n",
    "        img = cv2.cvtColor(img, cv2.COLOR_BGR2RGB)\n",
    "        encoded_face = face_recognition.face_encodings(img)[0]\n",
    "        encodeList.append(encoded_face)\n",
    "    return encodeList\n",
    "encoded_face_train = findEncodings(images)"
   ]
  },
  {
   "cell_type": "code",
   "execution_count": 8,
   "metadata": {},
   "outputs": [],
   "source": [
    "def markAttendance(name):\n",
    "    with open('Attendance.csv','r+') as f:\n",
    "        myDataList = f.readlines()\n",
    "        nameList = []\n",
    "        for line in myDataList:\n",
    "            entry = line.split(',')\n",
    "            nameList.append(entry[0])\n",
    "        if name not in nameList:\n",
    "            now = datetime.now()\n",
    "            time = now.strftime('%I:%M:%S:%p')\n",
    "            date = now.strftime('%d-%B-%Y')\n",
    "            f.writelines(f'n{name}, {time}, {date}')"
   ]
  },
  {
   "cell_type": "code",
   "execution_count": 9,
   "metadata": {},
   "outputs": [
    {
     "name": "stdout",
     "output_type": "stream",
     "text": [
      "1\n",
      "1\n",
      "1\n",
      "1\n",
      "1\n",
      "1\n",
      "1\n",
      "1\n",
      "1\n",
      "1\n",
      "1\n",
      "1\n",
      "1\n",
      "1\n",
      "1\n",
      "1\n",
      "1\n",
      "1\n",
      "1\n",
      "1\n",
      "1\n",
      "1\n",
      "1\n",
      "1\n",
      "1\n"
     ]
    }
   ],
   "source": [
    "# take pictures from webcam \n",
    "cap  = cv2.VideoCapture(0)\n",
    "while True:\n",
    "    success, img = cap.read()\n",
    "    imgS = cv2.resize(img, (0,0), None, 0.25,0.25)\n",
    "    imgS = cv2.cvtColor(imgS, cv2.COLOR_BGR2RGB)\n",
    "    faces_in_frame = face_recognition.face_locations(imgS)\n",
    "    encoded_faces = face_recognition.face_encodings(imgS, faces_in_frame)\n",
    "    for encode_face, faceloc in zip(encoded_faces,faces_in_frame):\n",
    "        matches = face_recognition.compare_faces(encoded_face_train, encode_face)\n",
    "        faceDist = face_recognition.face_distance(encoded_face_train, encode_face)\n",
    "        matchIndex = np.argmin(faceDist)\n",
    "        print(matchIndex)\n",
    "        if matches[matchIndex]:\n",
    "            name = classNames[matchIndex].upper().lower()\n",
    "            y1,x2,y2,x1 = faceloc\n",
    "            # since we scaled down by 4 times\n",
    "            y1, x2,y2,x1 = y1*4,x2*4,y2*4,x1*4\n",
    "            cv2.rectangle(img,(x1,y1),(x2,y2),(0,255,0),2)\n",
    "            cv2.rectangle(img, (x1,y2-35),(x2,y2), (0,255,0), cv2.FILLED)\n",
    "            cv2.putText(img,name, (x1+6,y2-5), cv2.FONT_HERSHEY_COMPLEX,1,(255,255,255),2)\n",
    "            markAttendance(name)\n",
    "            break\n",
    "    cv2.imshow('webcam', img)\n",
    "    if cv2.waitKey(1) & 0xFF == ord('q'):\n",
    "        break"
   ]
  },
  {
   "cell_type": "code",
   "execution_count": null,
   "metadata": {},
   "outputs": [
    {
     "ename": "NameError",
     "evalue": "name 'cv2' is not defined",
     "output_type": "error",
     "traceback": [
      "\u001b[1;31m---------------------------------------------------------------------------\u001b[0m",
      "\u001b[1;31mNameError\u001b[0m                                 Traceback (most recent call last)",
      "\u001b[1;32mc:\\Users\\ADMIN\\OneDrive\\Desktop\\BECM101P\\main2.ipynb Cell 7\u001b[0m line \u001b[0;36m2\n\u001b[0;32m      <a href='vscode-notebook-cell:/c%3A/Users/ADMIN/OneDrive/Desktop/BECM101P/main2.ipynb#X15sZmlsZQ%3D%3D?line=0'>1</a>\u001b[0m \u001b[39m# take pictures from webcam \u001b[39;00m\n\u001b[1;32m----> <a href='vscode-notebook-cell:/c%3A/Users/ADMIN/OneDrive/Desktop/BECM101P/main2.ipynb#X15sZmlsZQ%3D%3D?line=1'>2</a>\u001b[0m cap  \u001b[39m=\u001b[39m cv2\u001b[39m.\u001b[39mVideoCapture(\u001b[39m0\u001b[39m)\n\u001b[0;32m      <a href='vscode-notebook-cell:/c%3A/Users/ADMIN/OneDrive/Desktop/BECM101P/main2.ipynb#X15sZmlsZQ%3D%3D?line=3'>4</a>\u001b[0m success, img \u001b[39m=\u001b[39m cap\u001b[39m.\u001b[39mread()\n\u001b[0;32m      <a href='vscode-notebook-cell:/c%3A/Users/ADMIN/OneDrive/Desktop/BECM101P/main2.ipynb#X15sZmlsZQ%3D%3D?line=4'>5</a>\u001b[0m imgS \u001b[39m=\u001b[39m cv2\u001b[39m.\u001b[39mresize(img, (\u001b[39m0\u001b[39m,\u001b[39m0\u001b[39m), \u001b[39mNone\u001b[39;00m, \u001b[39m0.25\u001b[39m,\u001b[39m0.25\u001b[39m)\n",
      "\u001b[1;31mNameError\u001b[0m: name 'cv2' is not defined"
     ]
    }
   ],
   "source": [
    "# take pictures from webcam \n",
    "cap  = cv2.VideoCapture(0)\n",
    "while True:\n",
    "    success, img = cap.read()\n",
    "    imgS = cv2.resize(img, (0,0), None, 0.25,0.25)\n",
    "    imgS = cv2.cvtColor(imgS, cv2.COLOR_BGR2RGB)\n",
    "    faces_in_frame = face_recognition.face_locations(imgS)\n",
    "    encoded_faces = face_recognition.face_encodings(imgS, faces_in_frame)\n",
    "    for encode_face, faceloc in zip(encoded_faces,faces_in_frame):\n",
    "        matches = face_recognition.compare_faces(encoded_face_train, encode_face)\n",
    "        faceDist = face_recognition.face_distance(encoded_face_train, encode_face)\n",
    "        matchIndex = np.argmin(faceDist)\n",
    "        print(matchIndex)\n",
    "        if matches[matchIndex]:\n",
    "            name = classNames[matchIndex].upper().lower()\n",
    "            y1,x2,y2,x1 = faceloc\n",
    "            # since we scaled down by 4 times\n",
    "            y1, x2,y2,x1 = y1*4,x2*4,y2*4,x1*4\n",
    "            cv2.rectangle(img,(x1,y1),(x2,y2),(0,255,0),2)\n",
    "            cv2.rectangle(img, (x1,y2-35),(x2,y2), (0,255,0), cv2.FILLED)\n",
    "            cv2.putText(img,name, (x1+6,y2-5), cv2.FONT_HERSHEY_COMPLEX,1,(255,255,255),2)\n",
    "            markAttendance(name)\n",
    "    cv2.imshow('webcam', img)\n",
    "    if cv2.waitKey(1) & 0xFF == ord('q'):\n",
    "        break"
   ]
  },
  {
   "cell_type": "code",
   "execution_count": 4,
   "metadata": {},
   "outputs": [
    {
     "name": "stdout",
     "output_type": "stream",
     "text": [
      "['n23blc1026', ' 08:31:56:PM', ' 21-November-2023n23blc1026', ' 08:31:56:PM', ' 21-November-2023n23blc1026', ' 08:31:57:PM', ' 21-November-2023n23blc1026', ' 08:31:57:PM', ' 21-November-2023n23blc1026', ' 08:31:58:PM', ' 21-November-2023n23blc1026', ' 08:31:58:PM', ' 21-November-2023n23blc1026', ' 08:31:59:PM', ' 21-November-2023n23blc1026', ' 08:33:42:PM', ' 21-November-2023n23blc1026', ' 08:33:42:PM', ' 21-November-2023n23blc1026', ' 08:33:43:PM', ' 21-November-2023n23blc1026', ' 08:33:43:PM', ' 21-November-2023n23blc1026', ' 08:33:43:PM', ' 21-November-2023n23blc1026', ' 08:33:44:PM', ' 21-November-2023n23blc1026', ' 08:33:45:PM', ' 21-November-2023n23blc1026', ' 08:33:45:PM', ' 21-November-2023n23blc1026', ' 08:33:45:PM', ' 21-November-2023n23blc1026', ' 08:33:46:PM', ' 21-November-2023n23blc1026', ' 08:37:43:PM', ' 21-November-2023n23blc1026', ' 08:37:45:PM', ' 21-November-2023n23blc1026', ' 08:37:46:PM', ' 21-November-2023n23blc1026', ' 08:37:46:PM', ' 21-November-2023n23blc1026', ' 08:37:47:PM', ' 21-November-2023n23blc1026', ' 08:37:47:PM', ' 21-November-2023n23blc1026', ' 08:37:48:PM', ' 21-November-2023n23blc1026', ' 08:37:48:PM', ' 21-November-2023n23blc1026', ' 08:37:49:PM', ' 21-November-2023n23blc1026', ' 08:37:49:PM', ' 21-November-2023n23blc1026', ' 08:37:50:PM', ' 21-November-2023n23blc1026', ' 08:37:50:PM', ' 21-November-2023n23blc1026', ' 08:37:51:PM', ' 21-November-2023n23blc1026', ' 08:37:51:PM', ' 21-November-2023n23blc1026', ' 08:37:52:PM', ' 21-November-2023n23blc1026', ' 08:37:52:PM', ' 21-November-2023n23blc1026', ' 08:37:53:PM', ' 21-November-2023n23blc1026', ' 08:37:53:PM', ' 21-November-2023n23blc1026', ' 08:37:54:PM', ' 21-November-2023n23blc1026', ' 08:37:55:PM', ' 21-November-2023n23blc1026', ' 08:37:56:PM', ' 21-November-2023n23blc1026', ' 08:37:58:PM', ' 21-November-2023n23blc1026', ' 08:38:01:PM', ' 21-November-2023n23blc1026', ' 08:38:02:PM', ' 21-November-2023n23blc1026', ' 08:38:03:PM', ' 21-November-2023n23blc1026', ' 08:38:03:PM', ' 21-November-2023n23blc1026', ' 08:38:04:PM', ' 21-November-2023n23blc1026', ' 08:38:04:PM', ' 21-November-2023n23blc1026', ' 08:38:05:PM', ' 21-November-2023n23blc1026', ' 08:38:05:PM', ' 21-November-2023n23blc1026', ' 08:38:07:PM', ' 21-November-2023n23blc1026', ' 08:38:07:PM', ' 21-November-2023n23blc1026', ' 08:38:08:PM', ' 21-November-2023n23blc1026', ' 08:38:08:PM', ' 21-November-2023n23blc1026', ' 08:38:09:PM', ' 21-November-2023n23blc1026', ' 08:38:09:PM', ' 21-November-2023n23blc1026', ' 08:38:10:PM', ' 21-November-2023n23blc1026', ' 08:38:10:PM', ' 21-November-2023n23blc1026', ' 08:38:11:PM', ' 21-November-2023n23blc1026', ' 08:38:11:PM', ' 21-November-2023n23blc1026', ' 08:38:12:PM', ' 21-November-2023n23blc1026', ' 08:38:12:PM', ' 21-November-2023n23blc1026', ' 08:38:13:PM', ' 21-November-2023n23blc1026', ' 08:38:14:PM', ' 21-November-2023n23blc1026', ' 08:38:14:PM', ' 21-November-2023n23blc1026', ' 08:38:15:PM', ' 21-November-2023n23blc1026', ' 08:38:15:PM', ' 21-November-2023n23blc1026', ' 08:38:16:PM', ' 21-November-2023n23blc1026', ' 08:38:16:PM', ' 21-November-2023n23blc1026', ' 08:38:17:PM', ' 21-November-2023n23blc1026', ' 08:38:17:PM', ' 21-November-2023n23blc1026', ' 08:38:18:PM', ' 21-November-2023n23blc1026', ' 08:38:18:PM', ' 21-November-2023n23blc1026', ' 08:38:19:PM', ' 21-November-2023n23blc1026', ' 08:38:19:PM', ' 21-November-2023n23blc1026', ' 08:38:20:PM', ' 21-November-2023n23blc1026', ' 08:38:20:PM', ' 21-November-2023n23blc1026', ' 08:38:21:PM', ' 21-November-2023n23blc1026', ' 08:38:22:PM', ' 21-November-2023n23blc1026', ' 08:38:22:PM', ' 21-November-2023n23blc1026', ' 08:38:23:PM', ' 21-November-2023n23blc1026', ' 08:38:23:PM', ' 21-November-2023n23blc1026', ' 08:38:24:PM', ' 21-November-2023n23blc1026', ' 08:38:24:PM', ' 21-November-2023n23blc1026', ' 08:38:25:PM', ' 21-November-2023n23blc1026', ' 08:38:25:PM', ' 21-November-2023n23blc1026', ' 08:38:27:PM', ' 21-November-2023n23blc1026', ' 08:38:28:PM', ' 21-November-2023n23blc1026', ' 08:38:29:PM', ' 21-November-2023n23blc1026', ' 08:38:31:PM', ' 21-November-2023n23blc1026', ' 08:38:32:PM', ' 21-November-2023n23blc1026', ' 08:38:33:PM', ' 21-November-2023n23blc1026', ' 08:38:35:PM', ' 21-November-2023n23blc1026', ' 08:38:35:PM', ' 21-November-2023n23blc1026', ' 08:38:36:PM', ' 21-November-2023n23blc1026', ' 08:38:36:PM', ' 21-November-2023n23blc1026', ' 08:38:37:PM', ' 21-November-2023n23blc1026', ' 08:38:37:PM', ' 21-November-2023n23blc1026', ' 08:38:38:PM', ' 21-November-2023n23blc1026', ' 08:38:38:PM', ' 21-November-2023n23blc1026', ' 08:38:39:PM', ' 21-November-2023n23blc1026', ' 08:38:39:PM', ' 21-November-2023n23blc1026', ' 08:38:40:PM', ' 21-November-2023n23blc1026', ' 08:38:40:PM', ' 21-November-2023n23blc1026', ' 08:38:41:PM', ' 21-November-2023n23blc1026', ' 08:38:41:PM', ' 21-November-2023n23blc1026', ' 08:38:42:PM', ' 21-November-2023n23blc1026', ' 08:38:42:PM', ' 21-November-2023n23blc1026', ' 08:38:43:PM', ' 21-November-2023n23blc1026', ' 08:38:43:PM', ' 21-November-2023n23blc1026', ' 08:38:44:PM', ' 21-November-2023n23blc1026', ' 08:38:45:PM', ' 21-November-2023n23blc1026', ' 08:42:45:PM', ' 21-November-2023n23blc1026', ' 08:42:45:PM', ' 21-November-2023n23blc1026', ' 08:42:46:PM', ' 21-November-2023n23blc1026', ' 08:42:47:PM', ' 21-November-2023n23blc1026', ' 08:42:47:PM', ' 21-November-2023n23bee1027', ' 08:43:01:PM', ' 21-November-2023n23blc1026', ' 08:43:02:PM', ' 21-November-2023n23bee1027', ' 08:43:02:PM', ' 21-November-2023n23bee1027', ' 08:43:03:PM', ' 21-November-2023n23bee1027', ' 08:43:03:PM', ' 21-November-2023n23bee1027', ' 08:43:06:PM', ' 21-November-2023n23bee1027', ' 08:43:07:PM', ' 21-November-2023n23bee1027', ' 08:43:07:PM', ' 21-November-2023n23bee1027', ' 08:43:07:PM', ' 21-November-2023n23bee1027', ' 08:43:08:PM', ' 21-November-2023n23bee1027', ' 08:43:08:PM', ' 21-November-2023n23bee1027', ' 08:43:09:PM', ' 21-November-2023n23bee1027', ' 08:43:09:PM', ' 21-November-2023n23bee1027', ' 08:43:10:PM', ' 21-November-2023n23bee1027', ' 08:43:10:PM', ' 21-November-2023n23bee1027', ' 08:43:10:PM', ' 21-November-2023n23bee1027', ' 08:43:11:PM', ' 21-November-2023n23bee1027', ' 08:43:12:PM', ' 21-November-2023n23bee1027', ' 08:43:12:PM', ' 21-November-2023n23bmv1067', ' 08:43:13:PM', ' 21-November-2023n23bee1027', ' 08:43:13:PM', ' 21-November-2023n23bee1027', ' 08:43:14:PM', ' 21-November-2023n23bee1027', ' 08:43:15:PM', ' 21-November-2023n23bmv1067', ' 08:43:16:PM', ' 21-November-2023n23bmv1067', ' 08:43:16:PM', ' 21-November-2023n23bmv1067', ' 08:43:17:PM', ' 21-November-2023n23bmv1067', ' 08:43:17:PM', ' 21-November-2023n23bee1027', ' 08:43:18:PM', ' 21-November-2023n23bmv1067', ' 08:43:18:PM', ' 21-November-2023n23bmh1036', ' 08:43:26:PM', ' 21-November-2023n23bmh1036', ' 08:43:26:PM', ' 21-November-2023n23bmh1036', ' 08:43:27:PM', ' 21-November-2023n23bmh1036', ' 08:43:27:PM', ' 21-November-2023n23bmh1036', ' 08:43:28:PM', ' 21-November-2023n23bmh1036', ' 08:43:29:PM', ' 21-November-2023n23blc1026', ' 08:43:43:PM', ' 21-November-2023n23blc1026', ' 08:43:44:PM', ' 21-November-2023n23blc1026', ' 08:43:45:PM', ' 21-November-2023n23blc1026', ' 08:43:45:PM', ' 21-November-2023n23blc1026', ' 08:43:46:PM', ' 21-November-2023n23blc1026', ' 08:43:47:PM', ' 21-November-2023n23blc1026', ' 08:43:47:PM', ' 21-November-2023n23blc1026', ' 08:43:49:PM', ' 21-November-2023n23blc1026', ' 08:43:50:PM', ' 21-November-2023n23blc1026', ' 08:43:54:PM', ' 21-November-2023n23blc1026', ' 08:43:58:PM', ' 21-November-2023n23blc1026', ' 08:43:59:PM', ' 21-November-2023n23blc1026', ' 08:44:00:PM', ' 21-November-2023n23blc1026', ' 08:44:01:PM', ' 21-November-2023n23blc1026', ' 08:44:03:PM', ' 21-November-2023n23blc1026', ' 08:44:04:PM', ' 21-November-2023n23blc1026', ' 08:44:05:PM', ' 21-November-2023n23blc1026', ' 08:44:06:PM', ' 21-November-2023n23blc1026', ' 08:44:07:PM', ' 21-November-2023n23blc1026', ' 08:44:09:PM', ' 21-November-2023n23blc1026', ' 08:44:10:PM', ' 21-November-2023n23blc1026', ' 08:44:11:PM', ' 21-November-2023n23blc1026', ' 08:44:14:PM', ' 21-November-2023n23blc1026', ' 08:44:15:PM', ' 21-November-2023n23blc1026', ' 08:44:16:PM', ' 21-November-2023n23blc1026', ' 08:44:17:PM', ' 21-November-2023n23blc1026', ' 08:44:18:PM', ' 21-November-2023n23blc1026', ' 08:44:19:PM', ' 21-November-2023n23blc1026', ' 11:13:03:AM', ' 22-November-2023n23blc1026', ' 11:13:04:AM', ' 22-November-2023n23blc1026', ' 11:13:06:AM', ' 22-November-2023n23blc1026', ' 11:13:07:AM', ' 22-November-2023n23blc1026', ' 11:13:09:AM', ' 22-November-2023n23blc1026', ' 11:13:10:AM', ' 22-November-2023n23blc1026', ' 11:13:12:AM', ' 22-November-2023n23blc1026', ' 11:13:13:AM', ' 22-November-2023n23blc1026', ' 11:13:14:AM', ' 22-November-2023n23blc1026', ' 11:13:16:AM', ' 22-November-2023n23blc1026', ' 11:13:18:AM', ' 22-November-2023n23blc1026', ' 11:13:19:AM', ' 22-November-2023n23blc1026', ' 11:13:21:AM', ' 22-November-2023n23blc1026', ' 11:13:22:AM', ' 22-November-2023n23blc1026', ' 11:13:24:AM', ' 22-November-2023n23blc1026', ' 11:13:25:AM', ' 22-November-2023n23blc1026', ' 11:13:27:AM', ' 22-November-2023n23blc1026', ' 11:13:41:AM', ' 22-November-2023n23blc1026', ' 11:13:43:AM', ' 22-November-2023n23blc1026', ' 11:13:44:AM', ' 22-November-2023n23blc1026', ' 11:13:46:AM', ' 22-November-2023n23blc1026', ' 11:13:47:AM', ' 22-November-2023n23blc1026', ' 11:13:49:AM', ' 22-November-2023n23blc1026', ' 11:13:50:AM', ' 22-November-2023n23blc1026', ' 11:13:55:AM', ' 22-November-2023n23blc1026', ' 11:13:55:AM', ' 22-November-2023n23blc1026', ' 11:13:56:AM', ' 22-November-2023n23blc1026', ' 11:13:57:AM', ' 22-November-2023n23blc1026', ' 11:13:58:AM', ' 22-November-2023n23blc1026', ' 11:13:59:AM', ' 22-November-2023n23blc1026', ' 11:13:59:AM', ' 22-November-2023n23blc1026', ' 11:14:00:AM', ' 22-November-2023n23blc1026', ' 11:14:01:AM', ' 22-November-2023n23blc1026', ' 11:14:02:AM', ' 22-November-2023n23blc1026', ' 11:14:03:AM', ' 22-November-2023n23blc1026', ' 11:14:03:AM', ' 22-November-2023n23blc1026', ' 11:14:04:AM', ' 22-November-2023n23blc1026', ' 11:14:05:AM', ' 22-November-2023n23blc1026', ' 11:14:06:AM', ' 22-November-2023n23blc1026', ' 11:14:07:AM', ' 22-November-2023n23blc1026', ' 11:14:08:AM', ' 22-November-2023n23blc1026', ' 11:14:09:AM', ' 22-November-2023n23blc1026', ' 11:14:10:AM', ' 22-November-2023n23blc1026', ' 11:14:10:AM', ' 22-November-2023n23blc1026', ' 11:14:11:AM', ' 22-November-2023n23blc1026', ' 11:14:12:AM', ' 22-November-2023n23blc1026', ' 11:14:13:AM', ' 22-November-2023n23blc1026', ' 11:14:13:AM', ' 22-November-2023n23blc1026', ' 11:14:14:AM', ' 22-November-2023n23blc1026', ' 11:14:15:AM', ' 22-November-2023n23blc1026', ' 11:14:15:AM', ' 22-November-2023n23blc1026', ' 11:14:16:AM', ' 22-November-2023n23blc1026', ' 11:14:17:AM', ' 22-November-2023n23blc1026', ' 11:14:18:AM', ' 22-November-2023n23blc1026', ' 11:14:18:AM', ' 22-November-2023n23blc1026', ' 11:14:19:AM', ' 22-November-2023n23blc1026', ' 11:14:20:AM', ' 22-November-2023n23blc1026', ' 11:14:21:AM', ' 22-November-2023n23blc1026', ' 11:14:22:AM', ' 22-November-2023n23blc1026', ' 11:14:22:AM', ' 22-November-2023n23blc1026', ' 11:14:23:AM', ' 22-November-2023n23blc1026', ' 11:14:25:AM', ' 22-November-2023n23blc1026', ' 11:14:27:AM', ' 22-November-2023n23blc1026', ' 11:14:28:AM', ' 22-November-2023n23blc1026', ' 11:14:35:AM', ' 22-November-2023n23blc1026', ' 11:14:36:AM', ' 22-November-2023n23blc1026', ' 11:14:37:AM', ' 22-November-2023n23blc1026', ' 11:14:40:AM', ' 22-November-2023n23blc1026', ' 11:14:40:AM', ' 22-November-2023n23blc1026', ' 11:14:41:AM', ' 22-November-2023n23blc1026', ' 11:14:42:AM', ' 22-November-2023n23blc1026', ' 11:14:43:AM', ' 22-November-2023n23blc1026', ' 11:14:44:AM', ' 22-November-2023n23blc1026', ' 11:14:45:AM', ' 22-November-2023n23blc1026', ' 11:14:45:AM', ' 22-November-2023n23blc1026', ' 11:14:46:AM', ' 22-November-2023n23blc1026', ' 11:14:47:AM', ' 22-November-2023n23blc1026', ' 11:14:48:AM', ' 22-November-2023n23blc1026', ' 11:14:49:AM', ' 22-November-2023n23blc1026', ' 11:14:49:AM', ' 22-November-2023n23blc1026', ' 11:14:50:AM', ' 22-November-2023n23blc1026', ' 11:14:51:AM', ' 22-November-2023n23blc1026', ' 11:14:51:AM', ' 22-November-2023n23blc1026', ' 11:14:52:AM', ' 22-November-2023n23blc1026', ' 11:14:53:AM', ' 22-November-2023n23blc1026', ' 11:14:54:AM', ' 22-November-2023n23blc1026', ' 11:14:54:AM', ' 22-November-2023n23blc1026', ' 11:14:55:AM', ' 22-November-2023n23blc1026', ' 11:14:56:AM', ' 22-November-2023n23blc1026', ' 11:14:57:AM', ' 22-November-2023n23blc1026', ' 11:14:58:AM', ' 22-November-2023n23blc1026', ' 11:14:58:AM', ' 22-November-2023n23blc1026', ' 11:14:59:AM', ' 22-November-2023n23blc1026', ' 11:15:00:AM', ' 22-November-2023n23blc1026', ' 11:15:01:AM', ' 22-November-2023n23blc1026', ' 11:15:02:AM', ' 22-November-2023n23blc1026', ' 11:15:02:AM', ' 22-November-2023n23blc1026', ' 11:15:03:AM', ' 22-November-2023n23blc1026', ' 11:15:04:AM', ' 22-November-2023n23blc1026', ' 11:15:05:AM', ' 22-November-2023n23blc1026', ' 11:15:07:AM', ' 22-November-2023n23blc1026', ' 11:15:08:AM', ' 22-November-2023n23blc1026', ' 11:15:14:AM', ' 22-November-2023n23blc1026', ' 11:15:15:AM', ' 22-November-2023n23blc1026', ' 11:15:16:AM', ' 22-November-2023n23blc1026', ' 11:15:17:AM', ' 22-November-2023n23blc1026', ' 11:15:19:AM', ' 22-November-2023n23blc1026', ' 11:15:20:AM', ' 22-November-2023n23blc1026', ' 11:15:21:AM', ' 22-November-2023n23blc1026', ' 11:15:22:AM', ' 22-November-2023n23blc1026', ' 11:15:22:AM', ' 22-November-2023n23blc1026', ' 11:15:23:AM', ' 22-November-2023n23blc1026', ' 11:15:24:AM', ' 22-November-2023n23blc1026', ' 11:15:25:AM', ' 22-November-2023n23blc1026', ' 11:15:25:AM', ' 22-November-2023n23blc1026', ' 11:15:27:AM', ' 22-November-2023n23blc1026', ' 11:15:29:AM', ' 22-November-2023n23blc1026', ' 11:15:30:AM', ' 22-November-2023n23blc1026', ' 11:15:31:AM', ' 22-November-2023n23blc1026', ' 11:15:32:AM', ' 22-November-2023n23blc1026', ' 11:15:33:AM', ' 22-November-2023n23blc1026', ' 11:15:33:AM', ' 22-November-2023n23blc1026', ' 11:15:34:AM', ' 22-November-2023n23blc1026', ' 11:15:35:AM', ' 22-November-2023n23blc1026', ' 11:15:36:AM', ' 22-November-2023n23blc1026', ' 11:15:37:AM', ' 22-November-2023n23blc1026', ' 11:15:38:AM', ' 22-November-2023n23blc1026', ' 11:15:39:AM', ' 22-November-2023n23blc1026', ' 11:15:39:AM', ' 22-November-2023n23blc1026', ' 11:15:40:AM', ' 22-November-2023n23blc1026', ' 11:15:41:AM', ' 22-November-2023n23blc1026', ' 11:15:42:AM', ' 22-November-2023n23blc1026', ' 11:15:43:AM', ' 22-November-2023n23blc1026', ' 11:15:44:AM', ' 22-November-2023n23blc1026', ' 11:15:45:AM', ' 22-November-2023n23blc1026', ' 11:15:45:AM', ' 22-November-2023n23blc1026', ' 11:15:46:AM', ' 22-November-2023n23blc1026', ' 11:15:47:AM', ' 22-November-2023n23blc1026', ' 11:15:48:AM', ' 22-November-2023n23blc1026', ' 11:15:49:AM', ' 22-November-2023n23blc1026', ' 11:15:50:AM', ' 22-November-2023n23blc1026', ' 11:15:51:AM', ' 22-November-2023n23blc1026', ' 11:15:51:AM', ' 22-November-2023n23blc1026', ' 11:15:52:AM', ' 22-November-2023n23blc1026', ' 11:15:53:AM', ' 22-November-2023n23blc1026', ' 11:15:54:AM', ' 22-November-2023n23blc1026', ' 11:15:55:AM', ' 22-November-2023n23blc1026', ' 11:15:56:AM', ' 22-November-2023n23blc1026', ' 11:15:56:AM', ' 22-November-2023n23blc1026', ' 11:15:57:AM', ' 22-November-2023n23blc1026', ' 11:15:58:AM', ' 22-November-2023n23blc1026', ' 11:15:59:AM', ' 22-November-2023n23blc1026', ' 11:16:00:AM', ' 22-November-2023n23blc1026', ' 11:16:01:AM', ' 22-November-2023n23blc1026', ' 11:16:01:AM', ' 22-November-2023n23blc1026', ' 11:16:02:AM', ' 22-November-2023n23blc1026', ' 11:16:03:AM', ' 22-November-2023n23blc1026', ' 11:16:04:AM', ' 22-November-2023n23blc1026', ' 11:16:05:AM', ' 22-November-2023n23blc1026', ' 11:16:06:AM', ' 22-November-2023n23blc1026', ' 11:16:06:AM', ' 22-November-2023n23blc1026', ' 11:16:07:AM', ' 22-November-2023n23blc1026', ' 11:16:08:AM', ' 22-November-2023n23blc1026', ' 11:16:09:AM', ' 22-November-2023n23blc1026', ' 11:16:09:AM', ' 22-November-2023n23blc1026', ' 11:16:10:AM', ' 22-November-2023n23blc1026', ' 11:16:11:AM', ' 22-November-2023n23blc1026', ' 11:16:12:AM', ' 22-November-2023n23blc1026', ' 11:16:13:AM', ' 22-November-2023n23blc1026', ' 11:16:13:AM', ' 22-November-2023n23blc1026', ' 11:16:14:AM', ' 22-November-2023n23blc1026', ' 11:16:16:AM', ' 22-November-2023n23blc1026', ' 11:16:17:AM', ' 22-November-2023n23blc1026', ' 11:16:17:AM', ' 22-November-2023n23blc1026', ' 11:16:19:AM', ' 22-November-2023n23blc1026', ' 11:16:20:AM', ' 22-November-2023n23blc1026', ' 11:16:35:AM', ' 22-November-2023n23blc1026', ' 11:16:37:AM', ' 22-November-2023n23blc1026', ' 11:16:38:AM', ' 22-November-2023n23blc1026', ' 11:16:39:AM', ' 22-November-2023n23blc1026', ' 11:16:41:AM', ' 22-November-2023n23blc1026', ' 11:16:43:AM', ' 22-November-2023n23blc1026', ' 11:16:44:AM', ' 22-November-2023n23blc1026', ' 11:16:48:AM', ' 22-November-2023n23blc1026', ' 11:16:49:AM', ' 22-November-2023n23blc1026', ' 11:16:52:AM', ' 22-November-2023n23blc1026', ' 11:16:53:AM', ' 22-November-2023n23blc1026', ' 11:16:54:AM', ' 22-November-2023n23blc1026', ' 11:16:56:AM', ' 22-November-2023n23blc1026', ' 11:16:57:AM', ' 22-November-2023n23blc1026', ' 11:16:58:AM', ' 22-November-2023n23blc1026', ' 11:16:58:AM', ' 22-November-2023n23blc1026', ' 11:16:59:AM', ' 22-November-2023n23blc1026', ' 11:17:00:AM', ' 22-November-2023n23blc1026', ' 11:17:02:AM', ' 22-November-2023n23blc1026', ' 11:17:03:AM', ' 22-November-2023n23blc1026', ' 11:17:06:AM', ' 22-November-2023n23blc1026', ' 11:17:07:AM', ' 22-November-2023n23blc1026', ' 11:17:08:AM', ' 22-November-2023n23blc1026', ' 11:17:09:AM', ' 22-November-2023n23blc1026', ' 11:17:10:AM', ' 22-November-2023n23blc1026', ' 11:17:11:AM', ' 22-November-2023n23blc1026', ' 11:17:12:AM', ' 22-November-2023n23blc1026', ' 11:17:14:AM', ' 22-November-2023n23blc1026', ' 11:17:15:AM', ' 22-November-2023n23blc1026', ' 11:17:16:AM', ' 22-November-2023n23blc1026', ' 11:17:16:AM', ' 22-November-2023n23blc1026', ' 11:17:17:AM', ' 22-November-2023n23blc1026', ' 11:17:18:AM', ' 22-November-2023n23blc1026', ' 11:17:19:AM', ' 22-November-2023n23blc1026', ' 11:17:27:AM', ' 22-November-2023n23blc1026', ' 11:17:28:AM', ' 22-November-2023n23blc1026', ' 11:17:29:AM', ' 22-November-2023n23blc1026', ' 11:17:30:AM', ' 22-November-2023n23blc1026', ' 11:17:31:AM', ' 22-November-2023n23blc1026', ' 11:17:31:AM', ' 22-November-2023n23blc1026', ' 11:17:32:AM', ' 22-November-2023n23blc1026', ' 11:17:33:AM', ' 22-November-2023n23blc1026', ' 11:17:34:AM', ' 22-November-2023n23blc1026', ' 11:17:35:AM', ' 22-November-2023n23blc1026', ' 11:17:35:AM', ' 22-November-2023n23blc1026', ' 11:17:36:AM', ' 22-November-2023n23blc1026', ' 11:17:37:AM', ' 22-November-2023n23blc1026', ' 11:17:38:AM', ' 22-November-2023n23blc1026', ' 11:17:39:AM', ' 22-November-2023n23blc1026', ' 11:17:39:AM', ' 22-November-2023n23blc1026', ' 11:17:40:AM', ' 22-November-2023n23blc1026', ' 11:17:41:AM', ' 22-November-2023n23blc1026', ' 11:17:42:AM', ' 22-November-2023n23blc1026', ' 11:17:42:AM', ' 22-November-2023n23blc1026', ' 11:17:44:AM', ' 22-November-2023n23blc1026', ' 11:17:44:AM', ' 22-November-2023n23blc1026', ' 11:17:48:AM', ' 22-November-2023n23blc1026', ' 11:17:49:AM', ' 22-November-2023n23blc1026', ' 11:17:50:AM', ' 22-November-2023n23blc1026', ' 11:17:51:AM', ' 22-November-2023n23blc1026', ' 11:17:51:AM', ' 22-November-2023n23blc1026', ' 11:17:52:AM', ' 22-November-2023n23blc1026', ' 11:17:53:AM', ' 22-November-2023n23blc1026', ' 11:17:54:AM', ' 22-November-2023n23blc1026', ' 11:17:55:AM', ' 22-November-2023n23blc1026', ' 11:17:56:AM', ' 22-November-2023n23blc1026', ' 11:17:57:AM', ' 22-November-2023n23blc1026', ' 11:18:00:AM', ' 22-November-2023n23blc1026', ' 11:18:01:AM', ' 22-November-2023n23blc1026', ' 11:18:02:AM', ' 22-November-2023n23blc1026', ' 11:18:03:AM', ' 22-November-2023n23blc1026', ' 11:18:04:AM', ' 22-November-2023n23blc1026', ' 11:18:05:AM', ' 22-November-2023n23blc1026', ' 11:18:11:AM', ' 22-November-2023n23blc1026', ' 11:18:11:AM', ' 22-November-2023n23blc1026', ' 11:18:13:AM', ' 22-November-2023n23blc1026', ' 11:18:14:AM', ' 22-November-2023n23blc1026', ' 11:18:14:AM', ' 22-November-2023n23blc1026', ' 11:18:15:AM', ' 22-November-2023n23blc1026', ' 11:18:16:AM', ' 22-November-2023n23blc1026', ' 11:18:17:AM', ' 22-November-2023n23blc1026', ' 11:18:19:AM', ' 22-November-2023n23blc1026', ' 11:18:19:AM', ' 22-November-2023n23blc1026', ' 11:18:20:AM', ' 22-November-2023n23blc1026', ' 11:18:21:AM', ' 22-November-2023n23blc1026', ' 11:18:22:AM', ' 22-November-2023n23blc1026', ' 11:18:23:AM', ' 22-November-2023n23blc1026', ' 11:18:24:AM', ' 22-November-2023n23blc1026', ' 11:18:25:AM', ' 22-November-2023n23blc1026', ' 11:18:25:AM', ' 22-November-2023n23blc1026', ' 11:18:26:AM', ' 22-November-2023n23blc1026', ' 11:18:37:AM', ' 22-November-2023n23blc1026', ' 11:18:40:AM', ' 22-November-2023n23blc1026', ' 11:18:41:AM', ' 22-November-2023n23blc1026', ' 11:18:42:AM', ' 22-November-2023n23blc1026', ' 11:18:42:AM', ' 22-November-2023n23blc1026', ' 11:18:43:AM', ' 22-November-2023n23blc1026', ' 11:18:44:AM', ' 22-November-2023n23blc1026', ' 11:18:45:AM', ' 22-November-2023n23blc1026', ' 11:18:46:AM', ' 22-November-2023n23blc1026', ' 11:18:47:AM', ' 22-November-2023n23blc1026', ' 11:18:47:AM', ' 22-November-2023n23blc1026', ' 11:18:48:AM', ' 22-November-2023n23blc1026', ' 11:18:49:AM', ' 22-November-2023n23blc1026', ' 11:18:50:AM', ' 22-November-2023n23blc1026', ' 11:18:51:AM', ' 22-November-2023n23blc1026', ' 11:18:52:AM', ' 22-November-2023n23blc1026', ' 11:18:53:AM', ' 22-November-2023n23blc1026', ' 11:18:54:AM', ' 22-November-2023n23blc1026', ' 11:18:55:AM', ' 22-November-2023n23blc1026', ' 11:18:56:AM', ' 22-November-2023n23blc1026', ' 11:18:57:AM', ' 22-November-2023n23blc1026', ' 11:18:57:AM', ' 22-November-2023n23blc1026', ' 11:18:58:AM', ' 22-November-2023n23blc1026', ' 11:18:59:AM', ' 22-November-2023n23blc1026', ' 11:19:00:AM', ' 22-November-2023n23blc1026', ' 11:19:01:AM', ' 22-November-2023n23blc1026', ' 11:19:02:AM', ' 22-November-2023n23blc1026', ' 11:19:02:AM', ' 22-November-2023n23blc1026', ' 11:19:03:AM', ' 22-November-2023n23blc1026', ' 11:19:04:AM', ' 22-November-2023n23blc1026', ' 11:19:05:AM', ' 22-November-2023n23blc1026', ' 11:19:06:AM', ' 22-November-2023n23blc1026', ' 11:19:07:AM', ' 22-November-2023n23blc1026', ' 11:19:09:AM', ' 22-November-2023n23blc1026', ' 11:19:12:AM', ' 22-November-2023n23blc1026', ' 11:19:13:AM', ' 22-November-2023n23blc1026', ' 11:19:14:AM', ' 22-November-2023n23blc1026', ' 11:19:15:AM', ' 22-November-2023n23blc1026', ' 11:19:16:AM', ' 22-November-2023n23blc1026', ' 11:19:17:AM', ' 22-November-2023n23blc1026', ' 11:19:18:AM', ' 22-November-2023n23blc1026', ' 11:19:19:AM', ' 22-November-2023n23blc1026', ' 11:19:20:AM', ' 22-November-2023n23blc1026', ' 11:19:20:AM', ' 22-November-2023n23blc1026', ' 11:19:21:AM', ' 22-November-2023n23blc1026', ' 11:19:22:AM', ' 22-November-2023n23blc1026', ' 11:19:23:AM', ' 22-November-2023n23blc1026', ' 11:19:23:AM', ' 22-November-2023n23blc1026', ' 11:19:24:AM', ' 22-November-2023n23blc1026', ' 11:19:25:AM', ' 22-November-2023n23blc1026', ' 11:19:26:AM', ' 22-November-2023n23blc1026', ' 11:19:26:AM', ' 22-November-2023n23blc1026', ' 11:19:27:AM', ' 22-November-2023n23blc1026', ' 11:19:28:AM', ' 22-November-2023n23blc1026', ' 11:19:29:AM', ' 22-November-2023n23blc1026', ' 11:19:30:AM', ' 22-November-2023n23blc1026', ' 11:19:31:AM', ' 22-November-2023n23blc1026', ' 11:19:31:AM', ' 22-November-2023n23blc1026', ' 11:19:32:AM', ' 22-November-2023n23blc1026', ' 11:19:33:AM', ' 22-November-2023n23blc1026', ' 11:19:34:AM', ' 22-November-2023n23blc1026', ' 11:19:35:AM', ' 22-November-2023n23blc1026', ' 11:19:36:AM', ' 22-November-2023n23blc1026', ' 11:19:37:AM', ' 22-November-2023n23blc1026', ' 11:19:37:AM', ' 22-November-2023n23blc1026', ' 11:19:38:AM', ' 22-November-2023n23blc1026', ' 11:19:39:AM', ' 22-November-2023n23blc1026', ' 11:19:40:AM', ' 22-November-2023n23blc1026', ' 11:19:41:AM', ' 22-November-2023n23blc1026', ' 11:19:42:AM', ' 22-November-2023n23blc1026', ' 11:19:43:AM', ' 22-November-2023n23blc1026', ' 11:19:55:AM', ' 22-November-2023n23blc1026', ' 11:19:57:AM', ' 22-November-2023n23blc1026', ' 11:19:58:AM', ' 22-November-2023n23blc1026', ' 11:20:00:AM', ' 22-November-2023n23blc1026', ' 11:20:01:AM', ' 22-November-2023n23blc1026', ' 11:20:03:AM', ' 22-November-2023n23blc1026', ' 11:20:04:AM', ' 22-November-2023n23blc1026', ' 11:20:06:AM', ' 22-November-2023n23blc1026', ' 11:20:08:AM', ' 22-November-2023n23blc1026', ' 11:20:09:AM', ' 22-November-2023n23blc1026', ' 11:20:11:AM', ' 22-November-2023n23blc1026', ' 11:20:13:AM', ' 22-November-2023n23blc1026', ' 11:20:16:AM', ' 22-November-2023n23blc1026', ' 11:20:17:AM', ' 22-November-2023n23blc1026', ' 11:20:19:AM', ' 22-November-2023n23blc1026', ' 11:20:30:AM', ' 22-November-2023n23blc1026', ' 11:20:30:AM', ' 22-November-2023n23bmv1067', ' 11:20:31:AM', ' 22-November-2023n23bmv1067', ' 11:20:32:AM', ' 22-November-2023n23blc1026', ' 11:20:33:AM', ' 22-November-2023n23blc1026', ' 11:20:34:AM', ' 22-November-2023n23bmv1067', ' 11:20:35:AM', ' 22-November-2023n23bmv1067', ' 11:20:36:AM', ' 22-November-2023n23bmv1067', ' 11:20:36:AM', ' 22-November-2023n23bmv1067', ' 11:20:37:AM', ' 22-November-2023n23bmv1067', ' 11:20:38:AM', ' 22-November-2023n23bmv1067', ' 11:20:39:AM', ' 22-November-2023n23bmv1067', ' 11:20:40:AM', ' 22-November-2023n23bmv1067', ' 11:20:41:AM', ' 22-November-2023n23bmv1067', ' 11:20:41:AM', ' 22-November-2023n23bmv1067', ' 11:20:42:AM', ' 22-November-2023n23blc1026', ' 11:20:43:AM', ' 22-November-2023n23bmv1067', ' 11:20:44:AM', ' 22-November-2023n23bmv1067', ' 11:20:45:AM', ' 22-November-2023n23bmv1067', ' 11:20:46:AM', ' 22-November-2023n23bmv1067', ' 11:20:46:AM', ' 22-November-2023n23blc1026', ' 11:20:47:AM', ' 22-November-2023n23bmv1067', ' 11:20:48:AM', ' 22-November-2023n23bmv1067', ' 11:20:49:AM', ' 22-November-2023n23bmv1067', ' 11:20:50:AM', ' 22-November-2023n23bmv1067', ' 11:20:51:AM', ' 22-November-2023n23bmv1067', ' 11:20:52:AM', ' 22-November-2023n23blc1026', ' 11:20:52:AM', ' 22-November-2023n23blc1026', ' 11:20:53:AM', ' 22-November-2023n23bmv1067', ' 11:20:54:AM', ' 22-November-2023n23bmv1067', ' 11:20:55:AM', ' 22-November-2023n23bmv1067', ' 11:20:56:AM', ' 22-November-2023n23bmv1067', ' 11:20:57:AM', ' 22-November-2023n23blc1026', ' 11:20:57:AM', ' 22-November-2023n23blc1026', ' 11:20:58:AM', ' 22-November-2023n23blc1026', ' 11:20:59:AM', ' 22-November-2023n23bmv1067', ' 11:21:00:AM', ' 22-November-2023n23bmv1067', ' 11:21:01:AM', ' 22-November-2023n23bmv1067', ' 11:21:02:AM', ' 22-November-2023n23bmv1067', ' 11:21:02:AM', ' 22-November-2023n23blc1026', ' 11:21:03:AM', ' 22-November-2023n23blc1026', ' 11:21:04:AM', ' 22-November-2023n23blc1026', ' 11:21:05:AM', ' 22-November-2023n23blc1026', ' 11:21:06:AM', ' 22-November-2023n23blc1026', ' 11:21:07:AM', ' 22-November-2023n23blc1026', ' 11:21:07:AM', ' 22-November-2023n23blc1026', ' 11:21:08:AM', ' 22-November-2023n23blc1026', ' 11:21:09:AM', ' 22-November-2023n23bmv1067', ' 11:21:10:AM', ' 22-November-2023n23bmv1067', ' 11:21:11:AM', ' 22-November-2023n23bmv1067', ' 11:21:12:AM', ' 22-November-2023n23blc1026', ' 11:21:13:AM', ' 22-November-2023n23bmv1067', ' 11:21:13:AM', ' 22-November-2023n23blc1026', ' 11:21:14:AM', ' 22-November-2023n23blc1026', ' 11:21:15:AM', ' 22-November-2023n23blc1026', ' 11:21:16:AM', ' 22-November-2023n23blc1026', ' 11:21:17:AM', ' 22-November-2023n23blc1026', ' 11:21:18:AM', ' 22-November-2023n23blc1026', ' 11:21:19:AM', ' 22-November-2023n23blc1026', ' 11:21:20:AM', ' 22-November-2023n23blc1026', ' 11:21:21:AM', ' 22-November-2023n23blc1026', ' 11:21:21:AM', ' 22-November-2023n23blc1026', ' 11:21:22:AM', ' 22-November-2023n23blc1026', ' 11:21:23:AM', ' 22-November-2023n23blc1026', ' 11:21:25:AM', ' 22-November-2023n23blc1026', ' 11:21:26:AM', ' 22-November-2023n23blc1026', ' 11:21:26:AM', ' 22-November-2023n23blc1026', ' 11:21:27:AM', ' 22-November-2023n23blc1026', ' 11:21:28:AM', ' 22-November-2023n23blc1026', ' 11:21:29:AM', ' 22-November-2023n23blc1026', ' 11:21:30:AM', ' 22-November-2023n23blc1026', ' 11:21:31:AM', ' 22-November-2023n23blc1026', ' 11:21:31:AM', ' 22-November-2023n23blc1026', ' 11:21:32:AM', ' 22-November-2023n23blc1026', ' 11:21:33:AM', ' 22-November-2023n23blc1026', ' 11:21:34:AM', ' 22-November-2023n23blc1026', ' 11:21:35:AM', ' 22-November-2023n23blc1026', ' 11:21:35:AM', ' 22-November-2023n23blc1026', ' 11:21:36:AM', ' 22-November-2023n23blc1026', ' 11:21:37:AM', ' 22-November-2023n23blc1026', ' 11:21:38:AM', ' 22-November-2023n23blc1026', ' 11:21:39:AM', ' 22-November-2023n23blc1026', ' 11:21:40:AM', ' 22-November-2023n23blc1026', ' 11:21:41:AM', ' 22-November-2023n23blc1026', ' 11:21:41:AM', ' 22-November-2023n23blc1026', ' 11:21:42:AM', ' 22-November-2023n23blc1026', ' 11:21:43:AM', ' 22-November-2023n23blc1026', ' 11:21:44:AM', ' 22-November-2023n23blc1026', ' 11:21:45:AM', ' 22-November-2023n23blc1026', ' 11:21:46:AM', ' 22-November-2023n23blc1026', ' 11:21:46:AM', ' 22-November-2023n23blc1026', ' 11:21:47:AM', ' 22-November-2023n23blc1026', ' 11:21:48:AM', ' 22-November-2023n23blc1026', ' 11:21:49:AM', ' 22-November-2023n23blc1026', ' 11:21:50:AM', ' 22-November-2023n23blc1026', ' 11:21:51:AM', ' 22-November-2023n23blc1026', ' 11:21:52:AM', ' 22-November-2023n23blc1026', ' 11:21:52:AM', ' 22-November-2023n23blc1026', ' 11:21:53:AM', ' 22-November-2023n23blc1026', ' 11:21:54:AM', ' 22-November-2023n23blc1026', ' 11:21:55:AM', ' 22-November-2023n23blc1026', ' 11:22:00:AM', ' 22-November-2023n23blc1026', ' 11:22:01:AM', ' 22-November-2023n23blc1026', ' 11:22:02:AM', ' 22-November-2023n23blc1026', ' 11:22:02:AM', ' 22-November-2023n23blc1026', ' 11:22:03:AM', ' 22-November-2023n23blc1026', ' 11:22:04:AM', ' 22-November-2023n23blc1026', ' 11:22:05:AM', ' 22-November-2023n23blc1026', ' 11:22:06:AM', ' 22-November-2023n23blc1026', ' 11:22:07:AM', ' 22-November-2023n23blc1026', ' 11:22:07:AM', ' 22-November-2023n23blc1026', ' 11:22:09:AM', ' 22-November-2023n23blc1026', ' 11:22:09:AM', ' 22-November-2023n23blc1026', ' 11:22:10:AM', ' 22-November-2023n23blc1026', ' 11:22:11:AM', ' 22-November-2023n23blc1026', ' 11:22:27:AM', ' 22-November-2023n23blc1026', ' 11:22:28:AM', ' 22-November-2023n23blc1026', ' 11:22:29:AM', ' 22-November-2023n23blc1026', ' 11:22:30:AM', ' 22-November-2023n23blc1026', ' 11:23:18:AM', ' 22-November-2023n23blc1026', ' 11:23:19:AM', ' 22-November-2023n23blc1026', ' 11:23:20:AM', ' 22-November-2023n23blc1026', ' 11:23:21:AM', ' 22-November-2023n23blc1026', ' 11:23:22:AM', ' 22-November-2023n23blc1026', ' 11:23:23:AM', ' 22-November-2023n23blc1026', ' 11:23:24:AM', ' 22-November-2023n23blc1026', ' 11:23:25:AM', ' 22-November-2023n23blc1026', ' 11:23:26:AM', ' 22-November-2023n23blc1026', ' 11:23:27:AM', ' 22-November-2023n23blc1026', ' 11:23:28:AM', ' 22-November-2023n23blc1026', ' 11:23:28:AM', ' 22-November-2023n23blc1026', ' 11:23:28:AM', ' 22-November-2023n23blc1026', ' 11:23:29:AM', ' 22-November-2023n23blc1026', ' 11:23:30:AM', ' 22-November-2023n23blc1026', ' 11:23:30:AM', ' 22-November-2023n23blc1026', ' 11:23:31:AM', ' 22-November-2023n23blc1026', ' 11:23:31:AM', ' 22-November-2023n23blc1026', ' 11:23:32:AM', ' 22-November-2023n23blc1026', ' 11:23:32:AM', ' 22-November-2023n23blc1026', ' 11:23:33:AM', ' 22-November-2023n23blc1026', ' 11:23:34:AM', ' 22-November-2023n23blc1026', ' 11:23:34:AM', ' 22-November-2023n23blc1026', ' 11:23:35:AM', ' 22-November-2023n23blc1026', ' 11:23:35:AM', ' 22-November-2023n23blc1026', ' 11:23:36:AM', ' 22-November-2023n23blc1026', ' 11:23:37:AM', ' 22-November-2023n23blc1026', ' 11:23:37:AM', ' 22-November-2023n23blc1026', ' 11:23:38:AM', ' 22-November-2023n23blc1026', ' 11:23:39:AM', ' 22-November-2023n23blc1026', ' 11:23:39:AM', ' 22-November-2023n23blc1026', ' 11:23:40:AM', ' 22-November-2023n23blc1026', ' 11:23:40:AM', ' 22-November-2023n23blc1026', ' 11:23:41:AM', ' 22-November-2023n23blc1026', ' 11:23:41:AM', ' 22-November-2023n23blc1026', ' 11:23:42:AM', ' 22-November-2023n23blc1026', ' 11:23:43:AM', ' 22-November-2023n23blc1026', ' 11:23:43:AM', ' 22-November-2023n23blc1026', ' 11:23:44:AM', ' 22-November-2023n23blc1026', ' 11:23:45:AM', ' 22-November-2023n23blc1026', ' 11:23:45:AM', ' 22-November-2023n23blc1026', ' 11:23:46:AM', ' 22-November-2023n23blc1026', ' 11:23:47:AM', ' 22-November-2023n23blc1026', ' 11:23:48:AM', ' 22-November-2023n23blc1026', ' 11:23:48:AM', ' 22-November-2023n23blc1026', ' 11:23:48:AM', ' 22-November-2023n23blc1026', ' 11:23:49:AM', ' 22-November-2023n23blc1026', ' 11:23:50:AM', ' 22-November-2023n23blc1026', ' 11:23:50:AM', ' 22-November-2023n23blc1026', ' 11:23:51:AM', ' 22-November-2023n23blc1026', ' 11:23:51:AM', ' 22-November-2023n23blc1026', ' 11:23:52:AM', ' 22-November-2023n23blc1026', ' 11:23:52:AM', ' 22-November-2023n23blc1026', ' 11:23:53:AM', ' 22-November-2023n23blc1026', ' 11:23:54:AM', ' 22-November-2023n23blc1026', ' 11:23:55:AM', ' 22-November-2023n23blc1026', ' 11:23:55:AM', ' 22-November-2023n23blc1026', ' 11:23:56:AM', ' 22-November-2023n23blc1026', ' 11:23:57:AM', ' 22-November-2023n23blc1026', ' 11:23:57:AM', ' 22-November-2023n23blc1026', ' 11:23:59:AM', ' 22-November-2023n23blc1026', ' 11:24:00:AM', ' 22-November-2023n23blc1026', ' 11:24:01:AM', ' 22-November-2023n23blc1026', ' 11:24:01:AM', ' 22-November-2023n23blc1026', ' 11:24:02:AM', ' 22-November-2023n23blc1026', ' 11:24:03:AM', ' 22-November-2023n23blc1026', ' 11:24:04:AM', ' 22-November-2023n23blc1026', ' 11:24:04:AM', ' 22-November-2023n23blc1026', ' 11:24:05:AM', ' 22-November-2023n23blc1026', ' 11:24:05:AM', ' 22-November-2023n23blc1026', ' 11:24:06:AM', ' 22-November-2023n23blc1026', ' 11:24:07:AM', ' 22-November-2023n23blc1026', ' 11:24:07:AM', ' 22-November-2023n23blc1026', ' 11:24:08:AM', ' 22-November-2023n23blc1026', ' 11:24:09:AM', ' 22-November-2023n23blc1026', ' 11:24:10:AM', ' 22-November-2023n23blc1026', ' 11:24:10:AM', ' 22-November-2023n23blc1026', ' 11:24:11:AM', ' 22-November-2023n23blc1026', ' 11:24:11:AM', ' 22-November-2023n23blc1026', ' 11:24:12:AM', ' 22-November-2023n23blc1026', ' 11:24:12:AM', ' 22-November-2023n23blc1026', ' 11:24:13:AM', ' 22-November-2023n23blc1026', ' 11:24:14:AM', ' 22-November-2023n23blc1026', ' 11:24:14:AM', ' 22-November-2023n23blc1026', ' 11:24:15:AM', ' 22-November-2023n23blc1026', ' 11:24:15:AM', ' 22-November-2023n23blc1026', ' 11:24:16:AM', ' 22-November-2023n23blc1026', ' 11:24:28:AM', ' 22-November-2023n23blc1026', ' 11:24:29:AM', ' 22-November-2023n23blc1026', ' 11:24:30:AM', ' 22-November-2023n23blc1026', ' 11:24:31:AM', ' 22-November-2023n23blc1026', ' 11:24:32:AM', ' 22-November-2023n23blc1026', ' 11:24:33:AM', ' 22-November-2023n23blc1026', ' 11:24:34:AM', ' 22-November-2023n23blc1026', ' 11:24:35:AM', ' 22-November-2023n23blc1026', ' 11:24:36:AM', ' 22-November-2023n23blc1026', ' 11:24:37:AM', ' 22-November-2023n23blc1026', ' 11:24:38:AM', ' 22-November-2023n23blc1026', ' 11:24:38:AM', ' 22-November-2023n23blc1026', ' 11:26:01:AM', ' 22-November-2023n23blc1026', ' 11:26:01:AM', ' 22-November-2023n23blc1026', ' 11:26:02:AM', ' 22-November-2023n23blc1026', ' 11:26:02:AM', ' 22-November-2023n23blc1026', ' 11:26:03:AM', ' 22-November-2023n23blc1026', ' 11:26:04:AM', ' 22-November-2023n23blc1026', ' 11:26:04:AM', ' 22-November-2023n23blc1026', ' 11:26:05:AM', ' 22-November-2023n23blc1026', ' 11:26:06:AM', ' 22-November-2023n23blc1026', ' 11:26:06:AM', ' 22-November-2023n23blc1026', ' 11:26:07:AM', ' 22-November-2023n23blc1026', ' 11:26:08:AM', ' 22-November-2023n23blc1026', ' 11:26:08:AM', ' 22-November-2023n23blc1026', ' 11:26:09:AM', ' 22-November-2023n23blc1026', ' 11:26:10:AM', ' 22-November-2023n23blc1026', ' 11:26:10:AM', ' 22-November-2023n23blc1026', ' 11:26:11:AM', ' 22-November-2023n23blc1026', ' 11:26:12:AM', ' 22-November-2023n23blc1026', ' 11:26:12:AM', ' 22-November-2023n23blc1026', ' 11:26:13:AM', ' 22-November-2023n23blc1026', ' 11:26:14:AM', ' 22-November-2023n23blc1026', ' 11:26:14:AM', ' 22-November-2023n23blc1026', ' 11:26:15:AM', ' 22-November-2023n23blc1026', ' 11:26:16:AM', ' 22-November-2023n23blc1026', ' 11:26:16:AM', ' 22-November-2023n23blc1026', ' 11:30:25:AM', ' 22-November-2023n23blc1026', ' 11:30:26:AM', ' 22-November-2023n23blc1026', ' 11:30:27:AM', ' 22-November-2023n23blc1026', ' 11:30:28:AM', ' 22-November-2023n23blc1026', ' 11:30:30:AM', ' 22-November-2023n23blc1026', ' 11:30:31:AM', ' 22-November-2023n23blc1026', ' 11:30:32:AM', ' 22-November-2023n23blc1026', ' 06:30:54:PM', ' 22-November-2023n23blc1026', ' 06:30:55:PM', ' 22-November-2023n23blc1026', ' 06:30:56:PM', ' 22-November-2023n23blc1026', ' 06:30:57:PM', ' 22-November-2023n23blc1026', ' 06:30:58:PM', ' 22-November-2023n23blc1026', ' 06:30:59:PM', ' 22-November-2023n23bmv1067', ' 06:31:01:PM', ' 22-November-2023n23blc1026', ' 06:31:02:PM', ' 22-November-2023n23bmv1067', ' 06:31:03:PM', ' 22-November-2023n23bmh1036', ' 06:31:12:PM', ' 22-November-2023n23bmh1036', ' 06:31:13:PM', ' 22-November-2023n23bmh1036', ' 06:31:14:PM', ' 22-November-2023n23bmh1036', ' 06:31:15:PM', ' 22-November-2023n23blc1026', ' 06:31:18:PM', ' 22-November-2023']\n"
     ]
    }
   ],
   "source": [
    "\n",
    "import csv\n",
    "\n",
    "fhand = open(\"Attendance.csv\")\n",
    "\n",
    "fhandcsv = csv.reader(fhand)\n",
    "\n",
    "for i in fhandcsv:\n",
    "    print(i)\n",
    "\n"
   ]
  },
  {
   "cell_type": "code",
   "execution_count": 5,
   "metadata": {},
   "outputs": [
    {
     "data": {
      "text/plain": [
       "'23BLC1026'"
      ]
     },
     "execution_count": 5,
     "metadata": {},
     "output_type": "execute_result"
    }
   ],
   "source": [
    "\"23BLC1026\".upper()"
   ]
  },
  {
   "cell_type": "code",
   "execution_count": null,
   "metadata": {},
   "outputs": [],
   "source": []
  }
 ],
 "metadata": {
  "kernelspec": {
   "display_name": "Python 3",
   "language": "python",
   "name": "python3"
  },
  "language_info": {
   "codemirror_mode": {
    "name": "ipython",
    "version": 3
   },
   "file_extension": ".py",
   "mimetype": "text/x-python",
   "name": "python",
   "nbconvert_exporter": "python",
   "pygments_lexer": "ipython3",
   "version": "3.11.4"
  }
 },
 "nbformat": 4,
 "nbformat_minor": 2
}
